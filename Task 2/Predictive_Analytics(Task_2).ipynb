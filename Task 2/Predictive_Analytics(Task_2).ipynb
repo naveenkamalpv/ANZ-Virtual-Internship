{
  "nbformat": 4,
  "nbformat_minor": 0,
  "metadata": {
    "colab": {
      "name": "Predictive_Analytics(Task_2).ipynb",
      "provenance": [],
      "collapsed_sections": [],
      "toc_visible": true
    },
    "kernelspec": {
      "name": "python3",
      "display_name": "Python 3"
    }
  },
  "cells": [
    {
      "cell_type": "markdown",
      "metadata": {
        "id": "zbg4lNI2rcAr",
        "colab_type": "text"
      },
      "source": [
        "# ANZ Virtual Internship (Task-2)"
      ]
    },
    {
      "cell_type": "markdown",
      "metadata": {
        "id": "hRL0GwR9rwiY",
        "colab_type": "text"
      },
      "source": [
        "##Importing all the required libraries"
      ]
    },
    {
      "cell_type": "code",
      "metadata": {
        "id": "Kd5s52IdqVGo",
        "colab_type": "code",
        "colab": {
          "base_uri": "https://localhost:8080/",
          "height": 71
        },
        "outputId": "6b28d538-2a6d-43b7-a309-f1f83080002f"
      },
      "source": [
        "import numpy as np\n",
        "import pandas as pd\n",
        "import matplotlib.pyplot as plt\n",
        "import seaborn as sns\n",
        "\n",
        "#for regression\n",
        "from sklearn.model_selection import train_test_split\n",
        "from sklearn.linear_model import LinearRegression\n",
        "from sklearn import metrics\n",
        "\n",
        "#for decision tree\n",
        "from sklearn.tree import DecisionTreeRegressor\n",
        "from sklearn.model_selection import cross_val_predict"
      ],
      "execution_count": 1,
      "outputs": [
        {
          "output_type": "stream",
          "text": [
            "/usr/local/lib/python3.6/dist-packages/statsmodels/tools/_testing.py:19: FutureWarning: pandas.util.testing is deprecated. Use the functions in the public API at pandas.testing instead.\n",
            "  import pandas.util.testing as tm\n"
          ],
          "name": "stderr"
        }
      ]
    },
    {
      "cell_type": "markdown",
      "metadata": {
        "id": "x-5J5zWYs_Sq",
        "colab_type": "text"
      },
      "source": [
        "##Reading the Excel file"
      ]
    },
    {
      "cell_type": "code",
      "metadata": {
        "id": "wrtyMtpxsPAh",
        "colab_type": "code",
        "colab": {
          "base_uri": "https://localhost:8080/",
          "height": 479
        },
        "outputId": "4722c62b-d5d0-493b-c2ef-20926c6c7aba"
      },
      "source": [
        "dataset=pd.read_excel('ANZ synthesised transaction dataset.xlsx')\n",
        "dataset.head()"
      ],
      "execution_count": 2,
      "outputs": [
        {
          "output_type": "execute_result",
          "data": {
            "text/html": [
              "<div>\n",
              "<style scoped>\n",
              "    .dataframe tbody tr th:only-of-type {\n",
              "        vertical-align: middle;\n",
              "    }\n",
              "\n",
              "    .dataframe tbody tr th {\n",
              "        vertical-align: top;\n",
              "    }\n",
              "\n",
              "    .dataframe thead th {\n",
              "        text-align: right;\n",
              "    }\n",
              "</style>\n",
              "<table border=\"1\" class=\"dataframe\">\n",
              "  <thead>\n",
              "    <tr style=\"text-align: right;\">\n",
              "      <th></th>\n",
              "      <th>status</th>\n",
              "      <th>card_present_flag</th>\n",
              "      <th>bpay_biller_code</th>\n",
              "      <th>account</th>\n",
              "      <th>currency</th>\n",
              "      <th>long_lat</th>\n",
              "      <th>txn_description</th>\n",
              "      <th>merchant_id</th>\n",
              "      <th>merchant_code</th>\n",
              "      <th>first_name</th>\n",
              "      <th>balance</th>\n",
              "      <th>date</th>\n",
              "      <th>gender</th>\n",
              "      <th>age</th>\n",
              "      <th>merchant_suburb</th>\n",
              "      <th>merchant_state</th>\n",
              "      <th>extraction</th>\n",
              "      <th>amount</th>\n",
              "      <th>transaction_id</th>\n",
              "      <th>country</th>\n",
              "      <th>customer_id</th>\n",
              "      <th>merchant_long_lat</th>\n",
              "      <th>movement</th>\n",
              "    </tr>\n",
              "  </thead>\n",
              "  <tbody>\n",
              "    <tr>\n",
              "      <th>0</th>\n",
              "      <td>authorized</td>\n",
              "      <td>1.0</td>\n",
              "      <td>NaN</td>\n",
              "      <td>ACC-1598451071</td>\n",
              "      <td>AUD</td>\n",
              "      <td>153.41 -27.95</td>\n",
              "      <td>POS</td>\n",
              "      <td>81c48296-73be-44a7-befa-d053f48ce7cd</td>\n",
              "      <td>NaN</td>\n",
              "      <td>Diana</td>\n",
              "      <td>35.39</td>\n",
              "      <td>2018-08-01</td>\n",
              "      <td>F</td>\n",
              "      <td>26</td>\n",
              "      <td>Ashmore</td>\n",
              "      <td>QLD</td>\n",
              "      <td>2018-08-01T01:01:15.000+0000</td>\n",
              "      <td>16.25</td>\n",
              "      <td>a623070bfead4541a6b0fff8a09e706c</td>\n",
              "      <td>Australia</td>\n",
              "      <td>CUS-2487424745</td>\n",
              "      <td>153.38 -27.99</td>\n",
              "      <td>debit</td>\n",
              "    </tr>\n",
              "    <tr>\n",
              "      <th>1</th>\n",
              "      <td>authorized</td>\n",
              "      <td>0.0</td>\n",
              "      <td>NaN</td>\n",
              "      <td>ACC-1598451071</td>\n",
              "      <td>AUD</td>\n",
              "      <td>153.41 -27.95</td>\n",
              "      <td>SALES-POS</td>\n",
              "      <td>830a451c-316e-4a6a-bf25-e37caedca49e</td>\n",
              "      <td>NaN</td>\n",
              "      <td>Diana</td>\n",
              "      <td>21.20</td>\n",
              "      <td>2018-08-01</td>\n",
              "      <td>F</td>\n",
              "      <td>26</td>\n",
              "      <td>Sydney</td>\n",
              "      <td>NSW</td>\n",
              "      <td>2018-08-01T01:13:45.000+0000</td>\n",
              "      <td>14.19</td>\n",
              "      <td>13270a2a902145da9db4c951e04b51b9</td>\n",
              "      <td>Australia</td>\n",
              "      <td>CUS-2487424745</td>\n",
              "      <td>151.21 -33.87</td>\n",
              "      <td>debit</td>\n",
              "    </tr>\n",
              "    <tr>\n",
              "      <th>2</th>\n",
              "      <td>authorized</td>\n",
              "      <td>1.0</td>\n",
              "      <td>NaN</td>\n",
              "      <td>ACC-1222300524</td>\n",
              "      <td>AUD</td>\n",
              "      <td>151.23 -33.94</td>\n",
              "      <td>POS</td>\n",
              "      <td>835c231d-8cdf-4e96-859d-e9d571760cf0</td>\n",
              "      <td>NaN</td>\n",
              "      <td>Michael</td>\n",
              "      <td>5.71</td>\n",
              "      <td>2018-08-01</td>\n",
              "      <td>M</td>\n",
              "      <td>38</td>\n",
              "      <td>Sydney</td>\n",
              "      <td>NSW</td>\n",
              "      <td>2018-08-01T01:26:15.000+0000</td>\n",
              "      <td>6.42</td>\n",
              "      <td>feb79e7ecd7048a5a36ec889d1a94270</td>\n",
              "      <td>Australia</td>\n",
              "      <td>CUS-2142601169</td>\n",
              "      <td>151.21 -33.87</td>\n",
              "      <td>debit</td>\n",
              "    </tr>\n",
              "    <tr>\n",
              "      <th>3</th>\n",
              "      <td>authorized</td>\n",
              "      <td>1.0</td>\n",
              "      <td>NaN</td>\n",
              "      <td>ACC-1037050564</td>\n",
              "      <td>AUD</td>\n",
              "      <td>153.10 -27.66</td>\n",
              "      <td>SALES-POS</td>\n",
              "      <td>48514682-c78a-4a88-b0da-2d6302e64673</td>\n",
              "      <td>NaN</td>\n",
              "      <td>Rhonda</td>\n",
              "      <td>2117.22</td>\n",
              "      <td>2018-08-01</td>\n",
              "      <td>F</td>\n",
              "      <td>40</td>\n",
              "      <td>Buderim</td>\n",
              "      <td>QLD</td>\n",
              "      <td>2018-08-01T01:38:45.000+0000</td>\n",
              "      <td>40.90</td>\n",
              "      <td>2698170da3704fd981b15e64a006079e</td>\n",
              "      <td>Australia</td>\n",
              "      <td>CUS-1614226872</td>\n",
              "      <td>153.05 -26.68</td>\n",
              "      <td>debit</td>\n",
              "    </tr>\n",
              "    <tr>\n",
              "      <th>4</th>\n",
              "      <td>authorized</td>\n",
              "      <td>1.0</td>\n",
              "      <td>NaN</td>\n",
              "      <td>ACC-1598451071</td>\n",
              "      <td>AUD</td>\n",
              "      <td>153.41 -27.95</td>\n",
              "      <td>SALES-POS</td>\n",
              "      <td>b4e02c10-0852-4273-b8fd-7b3395e32eb0</td>\n",
              "      <td>NaN</td>\n",
              "      <td>Diana</td>\n",
              "      <td>17.95</td>\n",
              "      <td>2018-08-01</td>\n",
              "      <td>F</td>\n",
              "      <td>26</td>\n",
              "      <td>Mermaid Beach</td>\n",
              "      <td>QLD</td>\n",
              "      <td>2018-08-01T01:51:15.000+0000</td>\n",
              "      <td>3.25</td>\n",
              "      <td>329adf79878c4cf0aeb4188b4691c266</td>\n",
              "      <td>Australia</td>\n",
              "      <td>CUS-2487424745</td>\n",
              "      <td>153.44 -28.06</td>\n",
              "      <td>debit</td>\n",
              "    </tr>\n",
              "  </tbody>\n",
              "</table>\n",
              "</div>"
            ],
            "text/plain": [
              "       status  card_present_flag  ... merchant_long_lat movement\n",
              "0  authorized                1.0  ...     153.38 -27.99    debit\n",
              "1  authorized                0.0  ...     151.21 -33.87    debit\n",
              "2  authorized                1.0  ...     151.21 -33.87    debit\n",
              "3  authorized                1.0  ...     153.05 -26.68    debit\n",
              "4  authorized                1.0  ...     153.44 -28.06    debit\n",
              "\n",
              "[5 rows x 23 columns]"
            ]
          },
          "metadata": {
            "tags": []
          },
          "execution_count": 2
        }
      ]
    },
    {
      "cell_type": "markdown",
      "metadata": {
        "id": "oOhD4K7BtgEw",
        "colab_type": "text"
      },
      "source": [
        "## Data Cleaning\n",
        "\n",
        "> Removing all the irrelevant columns\n",
        "\n"
      ]
    },
    {
      "cell_type": "code",
      "metadata": {
        "id": "DsOFj7hos3Kw",
        "colab_type": "code",
        "colab": {}
      },
      "source": [
        "irrelevent_cols=['status','card_present_flag','bpay_biller_code','currency',\n",
        "                 'merchant_id','merchant_code','merchant_suburb','merchant_state',\n",
        "                 'country','merchant_long_lat','movement','long_lat',\n",
        "                 'txn_description','extraction','transaction_id']\n",
        "dataset.drop(irrelevent_cols,axis=1,inplace=True)\n",
        "dataset=dataset.reset_index(drop=True)"
      ],
      "execution_count": 3,
      "outputs": []
    },
    {
      "cell_type": "code",
      "metadata": {
        "id": "Pb2LPfPcxp-d",
        "colab_type": "code",
        "colab": {
          "base_uri": "https://localhost:8080/",
          "height": 204
        },
        "outputId": "8bb66d20-91c1-4a54-f5cd-e691ccbaff61"
      },
      "source": [
        "dataset.head()"
      ],
      "execution_count": 4,
      "outputs": [
        {
          "output_type": "execute_result",
          "data": {
            "text/html": [
              "<div>\n",
              "<style scoped>\n",
              "    .dataframe tbody tr th:only-of-type {\n",
              "        vertical-align: middle;\n",
              "    }\n",
              "\n",
              "    .dataframe tbody tr th {\n",
              "        vertical-align: top;\n",
              "    }\n",
              "\n",
              "    .dataframe thead th {\n",
              "        text-align: right;\n",
              "    }\n",
              "</style>\n",
              "<table border=\"1\" class=\"dataframe\">\n",
              "  <thead>\n",
              "    <tr style=\"text-align: right;\">\n",
              "      <th></th>\n",
              "      <th>account</th>\n",
              "      <th>first_name</th>\n",
              "      <th>balance</th>\n",
              "      <th>date</th>\n",
              "      <th>gender</th>\n",
              "      <th>age</th>\n",
              "      <th>amount</th>\n",
              "      <th>customer_id</th>\n",
              "    </tr>\n",
              "  </thead>\n",
              "  <tbody>\n",
              "    <tr>\n",
              "      <th>0</th>\n",
              "      <td>ACC-1598451071</td>\n",
              "      <td>Diana</td>\n",
              "      <td>35.39</td>\n",
              "      <td>2018-08-01</td>\n",
              "      <td>F</td>\n",
              "      <td>26</td>\n",
              "      <td>16.25</td>\n",
              "      <td>CUS-2487424745</td>\n",
              "    </tr>\n",
              "    <tr>\n",
              "      <th>1</th>\n",
              "      <td>ACC-1598451071</td>\n",
              "      <td>Diana</td>\n",
              "      <td>21.20</td>\n",
              "      <td>2018-08-01</td>\n",
              "      <td>F</td>\n",
              "      <td>26</td>\n",
              "      <td>14.19</td>\n",
              "      <td>CUS-2487424745</td>\n",
              "    </tr>\n",
              "    <tr>\n",
              "      <th>2</th>\n",
              "      <td>ACC-1222300524</td>\n",
              "      <td>Michael</td>\n",
              "      <td>5.71</td>\n",
              "      <td>2018-08-01</td>\n",
              "      <td>M</td>\n",
              "      <td>38</td>\n",
              "      <td>6.42</td>\n",
              "      <td>CUS-2142601169</td>\n",
              "    </tr>\n",
              "    <tr>\n",
              "      <th>3</th>\n",
              "      <td>ACC-1037050564</td>\n",
              "      <td>Rhonda</td>\n",
              "      <td>2117.22</td>\n",
              "      <td>2018-08-01</td>\n",
              "      <td>F</td>\n",
              "      <td>40</td>\n",
              "      <td>40.90</td>\n",
              "      <td>CUS-1614226872</td>\n",
              "    </tr>\n",
              "    <tr>\n",
              "      <th>4</th>\n",
              "      <td>ACC-1598451071</td>\n",
              "      <td>Diana</td>\n",
              "      <td>17.95</td>\n",
              "      <td>2018-08-01</td>\n",
              "      <td>F</td>\n",
              "      <td>26</td>\n",
              "      <td>3.25</td>\n",
              "      <td>CUS-2487424745</td>\n",
              "    </tr>\n",
              "  </tbody>\n",
              "</table>\n",
              "</div>"
            ],
            "text/plain": [
              "          account first_name  balance  ... age amount     customer_id\n",
              "0  ACC-1598451071      Diana    35.39  ...  26  16.25  CUS-2487424745\n",
              "1  ACC-1598451071      Diana    21.20  ...  26  14.19  CUS-2487424745\n",
              "2  ACC-1222300524    Michael     5.71  ...  38   6.42  CUS-2142601169\n",
              "3  ACC-1037050564     Rhonda  2117.22  ...  40  40.90  CUS-1614226872\n",
              "4  ACC-1598451071      Diana    17.95  ...  26   3.25  CUS-2487424745\n",
              "\n",
              "[5 rows x 8 columns]"
            ]
          },
          "metadata": {
            "tags": []
          },
          "execution_count": 4
        }
      ]
    },
    {
      "cell_type": "code",
      "metadata": {
        "id": "O5nKe3a6xzrv",
        "colab_type": "code",
        "colab": {
          "base_uri": "https://localhost:8080/",
          "height": 476
        },
        "outputId": "f60f731d-8652-4049-daea-0d33c5a22cb4"
      },
      "source": [
        "#check for null value present\n",
        "\n",
        "dataset.info()\n",
        "print('\\nNull values\\n')\n",
        "dataset.isnull().sum()"
      ],
      "execution_count": 5,
      "outputs": [
        {
          "output_type": "stream",
          "text": [
            "<class 'pandas.core.frame.DataFrame'>\n",
            "RangeIndex: 12043 entries, 0 to 12042\n",
            "Data columns (total 8 columns):\n",
            " #   Column       Non-Null Count  Dtype         \n",
            "---  ------       --------------  -----         \n",
            " 0   account      12043 non-null  object        \n",
            " 1   first_name   12043 non-null  object        \n",
            " 2   balance      12043 non-null  float64       \n",
            " 3   date         12043 non-null  datetime64[ns]\n",
            " 4   gender       12043 non-null  object        \n",
            " 5   age          12043 non-null  int64         \n",
            " 6   amount       12043 non-null  float64       \n",
            " 7   customer_id  12043 non-null  object        \n",
            "dtypes: datetime64[ns](1), float64(2), int64(1), object(4)\n",
            "memory usage: 752.8+ KB\n",
            "\n",
            "Null values\n",
            "\n"
          ],
          "name": "stdout"
        },
        {
          "output_type": "execute_result",
          "data": {
            "text/plain": [
              "account        0\n",
              "first_name     0\n",
              "balance        0\n",
              "date           0\n",
              "gender         0\n",
              "age            0\n",
              "amount         0\n",
              "customer_id    0\n",
              "dtype: int64"
            ]
          },
          "metadata": {
            "tags": []
          },
          "execution_count": 5
        }
      ]
    },
    {
      "cell_type": "markdown",
      "metadata": {
        "id": "AiGazaBdzXQu",
        "colab_type": "text"
      },
      "source": [
        "##Preparing the dataset"
      ]
    },
    {
      "cell_type": "markdown",
      "metadata": {
        "id": "xoTuDTiP0bY0",
        "colab_type": "text"
      },
      "source": [
        "Checking for number of customer "
      ]
    },
    {
      "cell_type": "code",
      "metadata": {
        "id": "YJjP3bwqy-ah",
        "colab_type": "code",
        "colab": {
          "base_uri": "https://localhost:8080/",
          "height": 34
        },
        "outputId": "de716ed9-aa94-4b09-a005-dc463b99d254"
      },
      "source": [
        "dataset['customer_id'].nunique()"
      ],
      "execution_count": 6,
      "outputs": [
        {
          "output_type": "execute_result",
          "data": {
            "text/plain": [
              "100"
            ]
          },
          "metadata": {
            "tags": []
          },
          "execution_count": 6
        }
      ]
    },
    {
      "cell_type": "markdown",
      "metadata": {
        "id": "zb4WV1qf0wiu",
        "colab_type": "text"
      },
      "source": [
        "Preparing customer dataset"
      ]
    },
    {
      "cell_type": "code",
      "metadata": {
        "id": "CD0lmqtX0quK",
        "colab_type": "code",
        "colab": {}
      },
      "source": [
        "customer_data=[]\n",
        "\n",
        "for cust in list(dataset['customer_id'].unique()):\n",
        "    salary_txns_subset = dataset[dataset['customer_id'] == cust]\n",
        "    salary_txns_subset = salary_txns_subset.reset_index(drop=True)\n",
        "    account = salary_txns_subset['account'][0]\n",
        "    first_name = salary_txns_subset['first_name'][0]\n",
        "    gender = salary_txns_subset['gender'][0]\n",
        "    age = salary_txns_subset['age'][0]\n",
        "    avg_balance = round(sum(salary_txns_subset['balance']) / len(salary_txns_subset), 2)\n",
        "    avg_salary = round(sum(salary_txns_subset['amount']) / len(salary_txns_subset), 2)\n",
        "    row = (cust, account, first_name, gender, age,avg_balance, avg_salary, round(avg_salary*12,2))\n",
        "    customer_data.append(row)\n",
        "    \n",
        "customer_df = pd.DataFrame(customer_data, columns = ('customer_id','account','first_name','gender',\n",
        "                                                     'age','avg_balance','avg_salary','annual_salary'))\n",
        "  "
      ],
      "execution_count": 7,
      "outputs": []
    },
    {
      "cell_type": "code",
      "metadata": {
        "id": "7XIPOu4W1BWA",
        "colab_type": "code",
        "colab": {}
      },
      "source": [
        "#Creating dummy variables for Gender\n",
        "\n",
        "customer_df = pd.get_dummies(customer_df, columns = ['gender'], drop_first = True)"
      ],
      "execution_count": 8,
      "outputs": []
    },
    {
      "cell_type": "markdown",
      "metadata": {
        "id": "rM-cvl4p36Cr",
        "colab_type": "text"
      },
      "source": [
        "##Data Visualization"
      ]
    },
    {
      "cell_type": "code",
      "metadata": {
        "id": "CT_C_tb631hw",
        "colab_type": "code",
        "colab": {
          "base_uri": "https://localhost:8080/",
          "height": 379
        },
        "outputId": "40c33462-fdb8-4bb4-f9da-44a7b8f253b3"
      },
      "source": [
        "sns.set(style=\"whitegrid\")\n",
        "sns.set(rc={'figure.figsize':(10,5)})\n",
        "age_salary_graph = sns.scatterplot(x=\"age\", y=\"annual_salary\", hue = 'gender_M', data=customer_df)\n",
        "age_salary_graph.axes.set_title(\"Scatterplot of Annual Salary against Age\",fontsize=20)\n",
        "age_salary_graph.set_xlabel(\"Age\", fontsize=15)\n",
        "age_salary_graph.set_ylabel(\"Annual Salary\", fontsize=15)"
      ],
      "execution_count": 9,
      "outputs": [
        {
          "output_type": "execute_result",
          "data": {
            "text/plain": [
              "Text(0, 0.5, 'Annual Salary')"
            ]
          },
          "metadata": {
            "tags": []
          },
          "execution_count": 9
        },
        {
          "output_type": "display_data",
          "data": {
            "image/png": "[encoded data removed]",
            "text/plain": [
              "<Figure size 720x360 with 1 Axes>"
            ]
          },
          "metadata": {
            "tags": []
          }
        }
      ]
    },
    {
      "cell_type": "code",
      "metadata": {
        "id": "aFL1NJ1R4HLA",
        "colab_type": "code",
        "colab": {
          "base_uri": "https://localhost:8080/",
          "height": 379
        },
        "outputId": "78cd5cbb-3435-4a71-9155-c45628d65518"
      },
      "source": [
        "sns.set(style=\"whitegrid\")\n",
        "sns.set(rc={'figure.figsize':(10,5)})\n",
        "age_salary_graph = sns.scatterplot(x=\"avg_balance\", y=\"annual_salary\", data=customer_df)\n",
        "age_salary_graph.axes.set_title(\"Scatterplot of Annual Salary against Average Balance\",fontsize=20)\n",
        "age_salary_graph.set_xlabel(\"Average Balance\", fontsize=15)\n",
        "age_salary_graph.set_ylabel(\"Annual Salary\", fontsize=15)"
      ],
      "execution_count": 10,
      "outputs": [
        {
          "output_type": "execute_result",
          "data": {
            "text/plain": [
              "Text(0, 0.5, 'Annual Salary')"
            ]
          },
          "metadata": {
            "tags": []
          },
          "execution_count": 10
        },
        {
          "output_type": "display_data",
          "data": {
            "image/png": "[encoded data removed]",
            "text/plain": [
              "<Figure size 720x360 with 1 Axes>"
            ]
          },
          "metadata": {
            "tags": []
          }
        }
      ]
    },
    {
      "cell_type": "markdown",
      "metadata": {
        "id": "l5gF8XS_4QoR",
        "colab_type": "text"
      },
      "source": [
        "#Linear Regression"
      ]
    },
    {
      "cell_type": "markdown",
      "metadata": {
        "id": "a6KcPZ9U4YLH",
        "colab_type": "text"
      },
      "source": [
        "\n",
        "\n",
        ">Splitting Data\n",
        "\n",
        "*   Train data 70%\n",
        "*   Test data 30%\n",
        "\n",
        "\n",
        "\n"
      ]
    },
    {
      "cell_type": "code",
      "metadata": {
        "id": "YmIZ8GeE4kK7",
        "colab_type": "code",
        "colab": {}
      },
      "source": [
        "train, test = train_test_split(customer_df, test_size=0.3)\n",
        "X = train[['age', 'avg_balance','gender_M']]\n",
        "y = train['annual_salary']\n",
        "X_test = test[['age', 'avg_balance','gender_M']]\n",
        "y_test = test['annual_salary']"
      ],
      "execution_count": 11,
      "outputs": []
    },
    {
      "cell_type": "code",
      "metadata": {
        "id": "06UDKSR04NUv",
        "colab_type": "code",
        "colab": {
          "base_uri": "https://localhost:8080/",
          "height": 34
        },
        "outputId": "3dbc1aa4-53de-4159-f482-8532e09c09e2"
      },
      "source": [
        "reg = LinearRegression()\n",
        "reg.fit(X,y)\n",
        "\n",
        "reg.score(X, y)"
      ],
      "execution_count": 12,
      "outputs": [
        {
          "output_type": "execute_result",
          "data": {
            "text/plain": [
              "0.09329566612541451"
            ]
          },
          "metadata": {
            "tags": []
          },
          "execution_count": 12
        }
      ]
    },
    {
      "cell_type": "markdown",
      "metadata": {
        "id": "X4FeJ9pV6NJd",
        "colab_type": "text"
      },
      "source": [
        ">Now, we can predict the data"
      ]
    },
    {
      "cell_type": "code",
      "metadata": {
        "id": "49nXG31M6Hl_",
        "colab_type": "code",
        "colab": {}
      },
      "source": [
        "y_predict = reg.predict(X_test)"
      ],
      "execution_count": 13,
      "outputs": []
    },
    {
      "cell_type": "markdown",
      "metadata": {
        "id": "mvSMSmYE5_EV",
        "colab_type": "text"
      },
      "source": [
        ">Now Plot the data"
      ]
    },
    {
      "cell_type": "code",
      "metadata": {
        "id": "dcrvqp8B5UrL",
        "colab_type": "code",
        "colab": {
          "base_uri": "https://localhost:8080/",
          "height": 355
        },
        "outputId": "d630682d-aaae-4509-f9e4-85afaca0843f"
      },
      "source": [
        "fig, ax = plt.subplots()\n",
        "ax.scatter(y_test, y_predict, edgecolors=(0, 0, 0))\n",
        "ax.plot([y_test.min(), y_test.max()], [y_test.min(), y_test.max()], 'k--', lw=4)\n",
        "ax.set_xlabel('Actual')\n",
        "ax.set_ylabel('Predicted')\n",
        "ax.set_title(\"Annual Salary vs Predicted\")\n",
        "plt.show()"
      ],
      "execution_count": 14,
      "outputs": [
        {
          "output_type": "display_data",
          "data": {
            "image/png": "[encoded data removed]",
            "text/plain": [
              "<Figure size 720x360 with 1 Axes>"
            ]
          },
          "metadata": {
            "tags": []
          }
        }
      ]
    },
    {
      "cell_type": "markdown",
      "metadata": {
        "id": "SIxwKIR06jWs",
        "colab_type": "text"
      },
      "source": [
        ">Check for RMSE(Root mean squares error)"
      ]
    },
    {
      "cell_type": "code",
      "metadata": {
        "id": "yXcgZ_G66E3p",
        "colab_type": "code",
        "colab": {
          "base_uri": "https://localhost:8080/",
          "height": 34
        },
        "outputId": "dfba3e73-57a9-4df6-c0de-7818a8f8f423"
      },
      "source": [
        "print(np.sqrt(metrics.mean_squared_error(y_test, y_predict)))"
      ],
      "execution_count": 15,
      "outputs": [
        {
          "output_type": "stream",
          "text": [
            "1178.226767879499\n"
          ],
          "name": "stdout"
        }
      ]
    },
    {
      "cell_type": "markdown",
      "metadata": {
        "id": "yiQYc5Nd8P8h",
        "colab_type": "text"
      },
      "source": [
        "#Decision Tree"
      ]
    },
    {
      "cell_type": "code",
      "metadata": {
        "id": "HCo3jofC6qwr",
        "colab_type": "code",
        "colab": {
          "base_uri": "https://localhost:8080/",
          "height": 34
        },
        "outputId": "b0832151-62c7-43c2-ed69-44995ccb831a"
      },
      "source": [
        "model =  DecisionTreeRegressor(max_depth=5,random_state=0)\n",
        "\n",
        "# Fit model\n",
        "model.fit(X,y)\n",
        "\n",
        "# Print the R-squared value for the model\n",
        "model.score(X, y)"
      ],
      "execution_count": 16,
      "outputs": [
        {
          "output_type": "execute_result",
          "data": {
            "text/plain": [
              "0.8188969625974359"
            ]
          },
          "metadata": {
            "tags": []
          },
          "execution_count": 16
        }
      ]
    },
    {
      "cell_type": "code",
      "metadata": {
        "id": "LANZlI4b8ypz",
        "colab_type": "code",
        "colab": {
          "base_uri": "https://localhost:8080/",
          "height": 34
        },
        "outputId": "ebeaf83f-9fa8-4029-f958-8577d73eb2e5"
      },
      "source": [
        "# Predict\n",
        "y_predict_2 = model.predict(X_test)\n",
        "\n",
        "# RMSE\n",
        "print(np.sqrt(metrics.mean_squared_error(y_test, y_predict_2)))"
      ],
      "execution_count": 17,
      "outputs": [
        {
          "output_type": "stream",
          "text": [
            "1415.508042259723\n"
          ],
          "name": "stdout"
        }
      ]
    },
    {
      "cell_type": "code",
      "metadata": {
        "id": "6Kj_LcPi86Cv",
        "colab_type": "code",
        "colab": {
          "base_uri": "https://localhost:8080/",
          "height": 355
        },
        "outputId": "d3d18dd7-c8fc-4288-d5db-1d10f1204426"
      },
      "source": [
        "#Plot of predicted salary against actual salary\n",
        "\n",
        "fig, ax = plt.subplots()\n",
        "ax.scatter(y_test, y_predict_2, edgecolors=(0, 0, 0))\n",
        "ax.plot([y_test.min(), y_test.max()], [y_test.min(), y_test.max()], 'k--', lw=4)\n",
        "ax.set_xlabel('Actual')\n",
        "ax.set_ylabel('Predicted')\n",
        "ax.set_title(\"Annual Salary vs Predicted\")\n",
        "plt.show()"
      ],
      "execution_count": 18,
      "outputs": [
        {
          "output_type": "display_data",
          "data": {
            "image/png": "[encoded data removed]",
            "text/plain": [
              "<Figure size 720x360 with 1 Axes>"
            ]
          },
          "metadata": {
            "tags": []
          }
        }
      ]
    },
    {
      "cell_type": "markdown",
      "metadata": {
        "id": "32KSHqER64ea",
        "colab_type": "text"
      },
      "source": [
        "Conclusion,\n",
        "\n",
        "\n",
        "> By observing the following data as the R-squared value is close to 0 (in both) indicates that the model has very less association with anual salary.\n",
        "\n",
        ">Also the RMSE is high, therefore we conclude that model has very poor performance in predicting the salary\n",
        "\n"
      ]
    }
  ]
}